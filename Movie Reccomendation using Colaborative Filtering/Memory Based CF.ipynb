{
 "cells": [
  {
   "cell_type": "code",
   "execution_count": 1,
   "id": "friendly-softball",
   "metadata": {},
   "outputs": [],
   "source": [
    "import pandas as pd\n",
    "import numpy as np \n",
    "import seaborn as sns"
   ]
  },
  {
   "cell_type": "code",
   "execution_count": 2,
   "id": "regulation-length",
   "metadata": {},
   "outputs": [],
   "source": [
    "movies = pd.read_csv('movies.csv')\n",
    "ratings = pd.read_csv('ratings.csv')"
   ]
  },
  {
   "cell_type": "code",
   "execution_count": 3,
   "id": "vital-polish",
   "metadata": {},
   "outputs": [
    {
     "data": {
      "text/html": [
       "<div>\n",
       "<style scoped>\n",
       "    .dataframe tbody tr th:only-of-type {\n",
       "        vertical-align: middle;\n",
       "    }\n",
       "\n",
       "    .dataframe tbody tr th {\n",
       "        vertical-align: top;\n",
       "    }\n",
       "\n",
       "    .dataframe thead th {\n",
       "        text-align: right;\n",
       "    }\n",
       "</style>\n",
       "<table border=\"1\" class=\"dataframe\">\n",
       "  <thead>\n",
       "    <tr style=\"text-align: right;\">\n",
       "      <th></th>\n",
       "      <th>movieId</th>\n",
       "      <th>title</th>\n",
       "    </tr>\n",
       "  </thead>\n",
       "  <tbody>\n",
       "    <tr>\n",
       "      <th>0</th>\n",
       "      <td>1</td>\n",
       "      <td>Toy Story (1995)</td>\n",
       "    </tr>\n",
       "    <tr>\n",
       "      <th>1</th>\n",
       "      <td>2</td>\n",
       "      <td>Jumanji (1995)</td>\n",
       "    </tr>\n",
       "    <tr>\n",
       "      <th>2</th>\n",
       "      <td>3</td>\n",
       "      <td>Grumpier Old Men (1995)</td>\n",
       "    </tr>\n",
       "    <tr>\n",
       "      <th>3</th>\n",
       "      <td>4</td>\n",
       "      <td>Waiting to Exhale (1995)</td>\n",
       "    </tr>\n",
       "    <tr>\n",
       "      <th>4</th>\n",
       "      <td>5</td>\n",
       "      <td>Father of the Bride Part II (1995)</td>\n",
       "    </tr>\n",
       "    <tr>\n",
       "      <th>...</th>\n",
       "      <td>...</td>\n",
       "      <td>...</td>\n",
       "    </tr>\n",
       "    <tr>\n",
       "      <th>9737</th>\n",
       "      <td>193581</td>\n",
       "      <td>Black Butler: Book of the Atlantic (2017)</td>\n",
       "    </tr>\n",
       "    <tr>\n",
       "      <th>9738</th>\n",
       "      <td>193583</td>\n",
       "      <td>No Game No Life: Zero (2017)</td>\n",
       "    </tr>\n",
       "    <tr>\n",
       "      <th>9739</th>\n",
       "      <td>193585</td>\n",
       "      <td>Flint (2017)</td>\n",
       "    </tr>\n",
       "    <tr>\n",
       "      <th>9740</th>\n",
       "      <td>193587</td>\n",
       "      <td>Bungo Stray Dogs: Dead Apple (2018)</td>\n",
       "    </tr>\n",
       "    <tr>\n",
       "      <th>9741</th>\n",
       "      <td>193609</td>\n",
       "      <td>Andrew Dice Clay: Dice Rules (1991)</td>\n",
       "    </tr>\n",
       "  </tbody>\n",
       "</table>\n",
       "<p>9742 rows × 2 columns</p>\n",
       "</div>"
      ],
      "text/plain": [
       "      movieId                                      title\n",
       "0           1                           Toy Story (1995)\n",
       "1           2                             Jumanji (1995)\n",
       "2           3                    Grumpier Old Men (1995)\n",
       "3           4                   Waiting to Exhale (1995)\n",
       "4           5         Father of the Bride Part II (1995)\n",
       "...       ...                                        ...\n",
       "9737   193581  Black Butler: Book of the Atlantic (2017)\n",
       "9738   193583               No Game No Life: Zero (2017)\n",
       "9739   193585                               Flint (2017)\n",
       "9740   193587        Bungo Stray Dogs: Dead Apple (2018)\n",
       "9741   193609        Andrew Dice Clay: Dice Rules (1991)\n",
       "\n",
       "[9742 rows x 2 columns]"
      ]
     },
     "execution_count": 3,
     "metadata": {},
     "output_type": "execute_result"
    }
   ],
   "source": [
    "movies = movies.drop('genres', axis=1)\n",
    "movies"
   ]
  },
  {
   "cell_type": "code",
   "execution_count": 4,
   "id": "flush-positive",
   "metadata": {},
   "outputs": [],
   "source": [
    "df = pd.merge(movies,ratings, on='movieId')"
   ]
  },
  {
   "cell_type": "code",
   "execution_count": 5,
   "id": "endangered-terrorism",
   "metadata": {},
   "outputs": [
    {
     "data": {
      "text/plain": [
       "array([     1,      2,      3, ..., 193585, 193587, 193609], dtype=int64)"
      ]
     },
     "execution_count": 5,
     "metadata": {},
     "output_type": "execute_result"
    }
   ],
   "source": [
    "df['movieId'].unique()"
   ]
  },
  {
   "cell_type": "code",
   "execution_count": 6,
   "id": "split-amino",
   "metadata": {},
   "outputs": [],
   "source": [
    "n_users = df.userId.nunique()\n",
    "n_items = df.movieId.nunique()"
   ]
  },
  {
   "cell_type": "code",
   "execution_count": 15,
   "id": "concerned-colombia",
   "metadata": {},
   "outputs": [
    {
     "name": "stdout",
     "output_type": "stream",
     "text": [
      "610 9724\n"
     ]
    },
    {
     "data": {
      "text/plain": [
       "6"
      ]
     },
     "execution_count": 15,
     "metadata": {},
     "output_type": "execute_result"
    }
   ],
   "source": [
    "from sklearn.model_selection import train_test_split\n",
    "print(n_users, n_items)\n",
    "index[index[0]==7].index[0]"
   ]
  },
  {
   "cell_type": "code",
   "execution_count": 9,
   "id": "rotary-georgia",
   "metadata": {},
   "outputs": [],
   "source": [
    "index = pd.DataFrame(data=df['movieId'].unique()).reset_index()"
   ]
  },
  {
   "cell_type": "code",
   "execution_count": 16,
   "id": "specific-flashing",
   "metadata": {},
   "outputs": [
    {
     "name": "stdout",
     "output_type": "stream",
     "text": [
      "610 9724\n"
     ]
    }
   ],
   "source": [
    "train_data, test_data = train_test_split(df,test_size = 0.3 )\n",
    "def ubah(x):\n",
    "    return index[index[0]==x].index[0]\n",
    "print(n_users , n_items)\n",
    "df['movieId_index'] = df['movieId'].apply(lambda x : ubah(x))"
   ]
  },
  {
   "cell_type": "code",
   "execution_count": 17,
   "id": "certain-monthly",
   "metadata": {},
   "outputs": [
    {
     "data": {
      "text/html": [
       "<div>\n",
       "<style scoped>\n",
       "    .dataframe tbody tr th:only-of-type {\n",
       "        vertical-align: middle;\n",
       "    }\n",
       "\n",
       "    .dataframe tbody tr th {\n",
       "        vertical-align: top;\n",
       "    }\n",
       "\n",
       "    .dataframe thead th {\n",
       "        text-align: right;\n",
       "    }\n",
       "</style>\n",
       "<table border=\"1\" class=\"dataframe\">\n",
       "  <thead>\n",
       "    <tr style=\"text-align: right;\">\n",
       "      <th></th>\n",
       "      <th>movieId</th>\n",
       "      <th>title</th>\n",
       "      <th>userId</th>\n",
       "      <th>rating</th>\n",
       "      <th>timestamp</th>\n",
       "      <th>movieId_index</th>\n",
       "    </tr>\n",
       "  </thead>\n",
       "  <tbody>\n",
       "    <tr>\n",
       "      <th>0</th>\n",
       "      <td>1</td>\n",
       "      <td>Toy Story (1995)</td>\n",
       "      <td>1</td>\n",
       "      <td>4.0</td>\n",
       "      <td>964982703</td>\n",
       "      <td>0</td>\n",
       "    </tr>\n",
       "    <tr>\n",
       "      <th>1</th>\n",
       "      <td>1</td>\n",
       "      <td>Toy Story (1995)</td>\n",
       "      <td>5</td>\n",
       "      <td>4.0</td>\n",
       "      <td>847434962</td>\n",
       "      <td>0</td>\n",
       "    </tr>\n",
       "    <tr>\n",
       "      <th>2</th>\n",
       "      <td>1</td>\n",
       "      <td>Toy Story (1995)</td>\n",
       "      <td>7</td>\n",
       "      <td>4.5</td>\n",
       "      <td>1106635946</td>\n",
       "      <td>0</td>\n",
       "    </tr>\n",
       "    <tr>\n",
       "      <th>3</th>\n",
       "      <td>1</td>\n",
       "      <td>Toy Story (1995)</td>\n",
       "      <td>15</td>\n",
       "      <td>2.5</td>\n",
       "      <td>1510577970</td>\n",
       "      <td>0</td>\n",
       "    </tr>\n",
       "    <tr>\n",
       "      <th>4</th>\n",
       "      <td>1</td>\n",
       "      <td>Toy Story (1995)</td>\n",
       "      <td>17</td>\n",
       "      <td>4.5</td>\n",
       "      <td>1305696483</td>\n",
       "      <td>0</td>\n",
       "    </tr>\n",
       "    <tr>\n",
       "      <th>...</th>\n",
       "      <td>...</td>\n",
       "      <td>...</td>\n",
       "      <td>...</td>\n",
       "      <td>...</td>\n",
       "      <td>...</td>\n",
       "      <td>...</td>\n",
       "    </tr>\n",
       "    <tr>\n",
       "      <th>100831</th>\n",
       "      <td>193581</td>\n",
       "      <td>Black Butler: Book of the Atlantic (2017)</td>\n",
       "      <td>184</td>\n",
       "      <td>4.0</td>\n",
       "      <td>1537109082</td>\n",
       "      <td>9719</td>\n",
       "    </tr>\n",
       "    <tr>\n",
       "      <th>100832</th>\n",
       "      <td>193583</td>\n",
       "      <td>No Game No Life: Zero (2017)</td>\n",
       "      <td>184</td>\n",
       "      <td>3.5</td>\n",
       "      <td>1537109545</td>\n",
       "      <td>9720</td>\n",
       "    </tr>\n",
       "    <tr>\n",
       "      <th>100833</th>\n",
       "      <td>193585</td>\n",
       "      <td>Flint (2017)</td>\n",
       "      <td>184</td>\n",
       "      <td>3.5</td>\n",
       "      <td>1537109805</td>\n",
       "      <td>9721</td>\n",
       "    </tr>\n",
       "    <tr>\n",
       "      <th>100834</th>\n",
       "      <td>193587</td>\n",
       "      <td>Bungo Stray Dogs: Dead Apple (2018)</td>\n",
       "      <td>184</td>\n",
       "      <td>3.5</td>\n",
       "      <td>1537110021</td>\n",
       "      <td>9722</td>\n",
       "    </tr>\n",
       "    <tr>\n",
       "      <th>100835</th>\n",
       "      <td>193609</td>\n",
       "      <td>Andrew Dice Clay: Dice Rules (1991)</td>\n",
       "      <td>331</td>\n",
       "      <td>4.0</td>\n",
       "      <td>1537157606</td>\n",
       "      <td>9723</td>\n",
       "    </tr>\n",
       "  </tbody>\n",
       "</table>\n",
       "<p>100836 rows × 6 columns</p>\n",
       "</div>"
      ],
      "text/plain": [
       "        movieId                                      title  userId  rating  \\\n",
       "0             1                           Toy Story (1995)       1     4.0   \n",
       "1             1                           Toy Story (1995)       5     4.0   \n",
       "2             1                           Toy Story (1995)       7     4.5   \n",
       "3             1                           Toy Story (1995)      15     2.5   \n",
       "4             1                           Toy Story (1995)      17     4.5   \n",
       "...         ...                                        ...     ...     ...   \n",
       "100831   193581  Black Butler: Book of the Atlantic (2017)     184     4.0   \n",
       "100832   193583               No Game No Life: Zero (2017)     184     3.5   \n",
       "100833   193585                               Flint (2017)     184     3.5   \n",
       "100834   193587        Bungo Stray Dogs: Dead Apple (2018)     184     3.5   \n",
       "100835   193609        Andrew Dice Clay: Dice Rules (1991)     331     4.0   \n",
       "\n",
       "         timestamp  movieId_index  \n",
       "0        964982703              0  \n",
       "1        847434962              0  \n",
       "2       1106635946              0  \n",
       "3       1510577970              0  \n",
       "4       1305696483              0  \n",
       "...            ...            ...  \n",
       "100831  1537109082           9719  \n",
       "100832  1537109545           9720  \n",
       "100833  1537109805           9721  \n",
       "100834  1537110021           9722  \n",
       "100835  1537157606           9723  \n",
       "\n",
       "[100836 rows x 6 columns]"
      ]
     },
     "execution_count": 17,
     "metadata": {},
     "output_type": "execute_result"
    }
   ],
   "source": [
    "df"
   ]
  },
  {
   "cell_type": "code",
   "execution_count": 19,
   "id": "polyphonic-cleaning",
   "metadata": {},
   "outputs": [],
   "source": [
    "train_data_matrix = np.zeros((n_users, n_items))\n",
    "for line in train_data.itertuples():\n",
    "    train_data_matrix[line[3]-1, line[6]-1] = line[4]  \n"
   ]
  },
  {
   "cell_type": "code",
   "execution_count": 21,
   "id": "political-railway",
   "metadata": {},
   "outputs": [],
   "source": [
    "test_data_matrix = np.zeros((n_users, n_items))\n",
    "for line in test_data.itertuples():\n",
    "    test_data_matrix[line[3]-1, line[6]-1] = line[4]"
   ]
  },
  {
   "cell_type": "code",
   "execution_count": 29,
   "id": "multiple-drama",
   "metadata": {},
   "outputs": [],
   "source": [
    "from sklearn.metrics.pairwise import pairwise_distances\n",
    "user_similarity = pairwise_distances(train_data_matrix,metric='cosine')\n",
    "item_similarity = pairwise_distances(train_data_matrix.T,metric='cosine')"
   ]
  },
  {
   "cell_type": "code",
   "execution_count": 34,
   "id": "clear-reynolds",
   "metadata": {},
   "outputs": [
    {
     "data": {
      "text/plain": [
       "array([[-0.07332374, -0.07332374, -0.07332374, ..., -0.07332374,\n",
       "        -0.07332374,  3.92667626],\n",
       "       [-0.00997532, -0.00997532, -0.00997532, ..., -0.00997532,\n",
       "        -0.00997532, -0.00997532],\n",
       "       [-0.00771288, -0.00771288, -0.00771288, ..., -0.00771288,\n",
       "        -0.00771288, -0.00771288],\n",
       "       ...,\n",
       "       [ 1.81067462, -0.18932538, -0.18932538, ..., -0.18932538,\n",
       "        -0.18932538, -0.18932538],\n",
       "       [-0.00853558, -0.00853558, -0.00853558, ..., -0.00853558,\n",
       "        -0.00853558,  2.99146442],\n",
       "       [-0.3463081 , -0.3463081 , -0.3463081 , ..., -0.3463081 ,\n",
       "        -0.3463081 ,  4.6536919 ]])"
      ]
     },
     "execution_count": 34,
     "metadata": {},
     "output_type": "execute_result"
    }
   ],
   "source": [
    "train_data_matrix - train_data_matrix.mean(axis=1)[:,np.newaxis]"
   ]
  },
  {
   "attachments": {
    "image.png": {
     "image/png": "[encoded data removed]"
    }
   },
   "cell_type": "markdown",
   "id": "valued-retailer",
   "metadata": {},
   "source": [
    "![image.png](attachment:image.png)"
   ]
  },
  {
   "cell_type": "code",
   "execution_count": 114,
   "id": "desperate-surgery",
   "metadata": {},
   "outputs": [
    {
     "name": "stdout",
     "output_type": "stream",
     "text": [
      "(610, 9724) (610, 610) (610, 9724) (1, 610)\n"
     ]
    },
    {
     "data": {
      "text/plain": [
       "array([[ 0.46598915,  0.2009478 ,  0.05342842, ...,  0.03989685,\n",
       "         0.03353193,  1.07533267],\n",
       "       [ 0.41532308,  0.14441671, -0.01092174, ..., -0.02587618,\n",
       "        -0.03131968,  1.05301158],\n",
       "       [ 0.41151856,  0.13674598, -0.01408304, ..., -0.02802478,\n",
       "        -0.0338066 ,  1.04678479],\n",
       "       ...,\n",
       "       [ 0.56604467,  0.31640725,  0.17160786, ...,  0.1576031 ,\n",
       "         0.15118816,  1.18597644],\n",
       "       [ 0.3954613 ,  0.13465279, -0.01499645, ..., -0.02733314,\n",
       "        -0.03356839,  1.02129839],\n",
       "       [ 0.73845745,  0.48185889,  0.32878752, ...,  0.31369678,\n",
       "         0.30788563,  1.35242113]])"
      ]
     },
     "execution_count": 114,
     "metadata": {},
     "output_type": "execute_result"
    }
   ],
   "source": [
    "mean = train_data_matrix.mean(axis=1)\n",
    "ratings_diff = (train_data_matrix - mean[:, np.newaxis]) \n",
    "print(ratings_diff.shape,user_similarity.shape, user_similarity.dot(ratings_diff).shape\n",
    "      ,np.array([np.abs(user_similarity).sum(axis=1)]).shape)\n",
    "mean[:, np.newaxis]+ user_similarity.dot(ratings_diff)/ np.array([np.abs(user_similarity).sum(axis=1)]).T\n",
    "#np.array([np.abs(similarity).sum(axis=1)]).T\n"
   ]
  },
  {
   "cell_type": "code",
   "execution_count": 133,
   "id": "subjective-claim",
   "metadata": {},
   "outputs": [],
   "source": [
    "def predict_user(rating, similarity):\n",
    "    mean_user_rating = rating.mean(axis=1)\n",
    "    #You use np.newaxis so that mean_user_rating has same format as ratings\n",
    "    ratings_diff = (rating - mean_user_rating[:, np.newaxis]) \n",
    "    pred = mean_user_rating[:, np.newaxis] + similarity.dot(ratings_diff) / np.array([(similarity).sum(axis=1)]).T\n",
    "    return pred\n",
    "\n",
    "def predict_item (rating,similarity):\n",
    "    pred = rating.dot(similarity) / np.array([np.abs(similarity).sum(axis=1)]) \n",
    "    return pred"
   ]
  },
  {
   "cell_type": "code",
   "execution_count": 134,
   "id": "ideal-capacity",
   "metadata": {},
   "outputs": [],
   "source": [
    "user_pred = predict_user(train_data_matrix,user_similarity)\n",
    "item_pred = predict_item(train_data_matrix,item_similarity)"
   ]
  },
  {
   "cell_type": "code",
   "execution_count": 135,
   "id": "executive-digest",
   "metadata": {},
   "outputs": [
    {
     "data": {
      "text/plain": [
       "array([[ 0.46598915,  0.2009478 ,  0.05342842, ...,  0.03989685,\n",
       "         0.03353193,  1.07533267],\n",
       "       [ 0.41532308,  0.14441671, -0.01092174, ..., -0.02587618,\n",
       "        -0.03131968,  1.05301158],\n",
       "       [ 0.41151856,  0.13674598, -0.01408304, ..., -0.02802478,\n",
       "        -0.0338066 ,  1.04678479],\n",
       "       ...,\n",
       "       [ 0.56604467,  0.31640725,  0.17160786, ...,  0.1576031 ,\n",
       "         0.15118816,  1.18597644],\n",
       "       [ 0.3954613 ,  0.13465279, -0.01499645, ..., -0.02733314,\n",
       "        -0.03356839,  1.02129839],\n",
       "       [ 0.73845745,  0.48185889,  0.32878752, ...,  0.31369678,\n",
       "         0.30788563,  1.35242113]])"
      ]
     },
     "execution_count": 135,
     "metadata": {},
     "output_type": "execute_result"
    }
   ],
   "source": [
    "user_pred"
   ]
  },
  {
   "cell_type": "code",
   "execution_count": 136,
   "id": "lasting-papua",
   "metadata": {},
   "outputs": [
    {
     "data": {
      "text/plain": [
       "array([[0.06489682, 0.06801808, 0.07257978, ..., 0.07371018, 0.07333128,\n",
       "        0.06023357],\n",
       "       [0.0091968 , 0.00989841, 0.01003742, ..., 0.00978632, 0.00997634,\n",
       "        0.00905412],\n",
       "       [0.00779907, 0.00762929, 0.0077447 , ..., 0.00775353, 0.00771367,\n",
       "        0.00772537],\n",
       "       ...,\n",
       "       [0.16674412, 0.17718559, 0.1884495 , ..., 0.19002116, 0.18934485,\n",
       "        0.16404652],\n",
       "       [0.00714334, 0.00764629, 0.00816026, ..., 0.00858057, 0.00853646,\n",
       "        0.00677929],\n",
       "       [0.33120193, 0.3436643 , 0.34791535, ..., 0.34608291, 0.34634372,\n",
       "        0.31562251]])"
      ]
     },
     "execution_count": 136,
     "metadata": {},
     "output_type": "execute_result"
    }
   ],
   "source": [
    "item_pred"
   ]
  },
  {
   "cell_type": "code",
   "execution_count": 137,
   "id": "pleased-raleigh",
   "metadata": {},
   "outputs": [],
   "source": [
    "from sklearn.metrics import mean_squared_error\n",
    "from math import sqrt\n",
    "def rmse(prediction, ground_truth):\n",
    "    prediction = prediction[ground_truth.nonzero()].flatten() \n",
    "    ground_truth = ground_truth[ground_truth.nonzero()].flatten()\n",
    "    return sqrt(mean_squared_error(prediction, ground_truth))"
   ]
  },
  {
   "cell_type": "code",
   "execution_count": 138,
   "id": "gentle-dietary",
   "metadata": {},
   "outputs": [
    {
     "name": "stdout",
     "output_type": "stream",
     "text": [
      "User-based CF RMSE: 3.329865386161258\n",
      "Item-based CF RMSE: 3.534358865228594\n"
     ]
    }
   ],
   "source": [
    "print('User-based CF RMSE: ' + str(rmse(user_pred, test_data_matrix)))\n",
    "print('Item-based CF RMSE: ' + str(rmse(item_pred, test_data_matrix)))"
   ]
  },
  {
   "cell_type": "code",
   "execution_count": null,
   "id": "regulated-richards",
   "metadata": {},
   "outputs": [],
   "source": []
  }
 ],
 "metadata": {
  "kernelspec": {
   "display_name": "Python 3",
   "language": "python",
   "name": "python3"
  },
  "language_info": {
   "codemirror_mode": {
    "name": "ipython",
    "version": 3
   },
   "file_extension": ".py",
   "mimetype": "text/x-python",
   "name": "python",
   "nbconvert_exporter": "python",
   "pygments_lexer": "ipython3",
   "version": "3.8.10"
  }
 },
 "nbformat": 4,
 "nbformat_minor": 5
}
